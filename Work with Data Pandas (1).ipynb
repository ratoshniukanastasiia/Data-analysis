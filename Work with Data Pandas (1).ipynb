{
 "cells": [
  {
   "cell_type": "markdown",
   "id": "1fc6d4e3",
   "metadata": {
    "scrolled": true
   },
   "source": [
    "## Pandas"
   ]
  },
  {
   "cell_type": "markdown",
   "id": "55c234ee",
   "metadata": {},
   "source": [
    "You can find the Dataset at the following link: https://insights.stackoverflow.com/survey (2023)"
   ]
  },
  {
   "cell_type": "markdown",
   "id": "44faf245",
   "metadata": {},
   "source": [
    "Reading the Dataset using Pandas"
   ]
  },
  {
   "cell_type": "code",
   "execution_count": 1,
   "id": "d1c4c4ac",
   "metadata": {},
   "outputs": [
    {
     "data": {
      "text/html": [
       "<div>\n",
       "<style scoped>\n",
       "    .dataframe tbody tr th:only-of-type {\n",
       "        vertical-align: middle;\n",
       "    }\n",
       "\n",
       "    .dataframe tbody tr th {\n",
       "        vertical-align: top;\n",
       "    }\n",
       "\n",
       "    .dataframe thead th {\n",
       "        text-align: right;\n",
       "    }\n",
       "</style>\n",
       "<table border=\"1\" class=\"dataframe\">\n",
       "  <thead>\n",
       "    <tr style=\"text-align: right;\">\n",
       "      <th></th>\n",
       "      <th>ResponseId</th>\n",
       "      <th>Q120</th>\n",
       "      <th>MainBranch</th>\n",
       "      <th>Age</th>\n",
       "      <th>Employment</th>\n",
       "      <th>RemoteWork</th>\n",
       "      <th>CodingActivities</th>\n",
       "      <th>EdLevel</th>\n",
       "      <th>LearnCode</th>\n",
       "      <th>LearnCodeOnline</th>\n",
       "      <th>...</th>\n",
       "      <th>Frequency_1</th>\n",
       "      <th>Frequency_2</th>\n",
       "      <th>Frequency_3</th>\n",
       "      <th>TimeSearching</th>\n",
       "      <th>TimeAnswering</th>\n",
       "      <th>ProfessionalTech</th>\n",
       "      <th>Industry</th>\n",
       "      <th>SurveyLength</th>\n",
       "      <th>SurveyEase</th>\n",
       "      <th>ConvertedCompYearly</th>\n",
       "    </tr>\n",
       "  </thead>\n",
       "  <tbody>\n",
       "    <tr>\n",
       "      <th>0</th>\n",
       "      <td>1</td>\n",
       "      <td>I agree</td>\n",
       "      <td>None of these</td>\n",
       "      <td>18-24 years old</td>\n",
       "      <td>NaN</td>\n",
       "      <td>NaN</td>\n",
       "      <td>NaN</td>\n",
       "      <td>NaN</td>\n",
       "      <td>NaN</td>\n",
       "      <td>NaN</td>\n",
       "      <td>...</td>\n",
       "      <td>NaN</td>\n",
       "      <td>NaN</td>\n",
       "      <td>NaN</td>\n",
       "      <td>NaN</td>\n",
       "      <td>NaN</td>\n",
       "      <td>NaN</td>\n",
       "      <td>NaN</td>\n",
       "      <td>NaN</td>\n",
       "      <td>NaN</td>\n",
       "      <td>NaN</td>\n",
       "    </tr>\n",
       "    <tr>\n",
       "      <th>1</th>\n",
       "      <td>2</td>\n",
       "      <td>I agree</td>\n",
       "      <td>I am a developer by profession</td>\n",
       "      <td>25-34 years old</td>\n",
       "      <td>Employed, full-time</td>\n",
       "      <td>Remote</td>\n",
       "      <td>Hobby;Contribute to open-source projects;Boots...</td>\n",
       "      <td>Bachelor’s degree (B.A., B.S., B.Eng., etc.)</td>\n",
       "      <td>Books / Physical media;Colleague;Friend or fam...</td>\n",
       "      <td>Formal documentation provided by the owner of ...</td>\n",
       "      <td>...</td>\n",
       "      <td>1-2 times a week</td>\n",
       "      <td>10+ times a week</td>\n",
       "      <td>Never</td>\n",
       "      <td>15-30 minutes a day</td>\n",
       "      <td>15-30 minutes a day</td>\n",
       "      <td>DevOps function;Microservices;Automated testin...</td>\n",
       "      <td>Information Services, IT, Software Development...</td>\n",
       "      <td>Appropriate in length</td>\n",
       "      <td>Easy</td>\n",
       "      <td>285000.0</td>\n",
       "    </tr>\n",
       "    <tr>\n",
       "      <th>2</th>\n",
       "      <td>3</td>\n",
       "      <td>I agree</td>\n",
       "      <td>I am a developer by profession</td>\n",
       "      <td>45-54 years old</td>\n",
       "      <td>Employed, full-time</td>\n",
       "      <td>Hybrid (some remote, some in-person)</td>\n",
       "      <td>Hobby;Professional development or self-paced l...</td>\n",
       "      <td>Bachelor’s degree (B.A., B.S., B.Eng., etc.)</td>\n",
       "      <td>Books / Physical media;Colleague;On the job tr...</td>\n",
       "      <td>Formal documentation provided by the owner of ...</td>\n",
       "      <td>...</td>\n",
       "      <td>6-10 times a week</td>\n",
       "      <td>6-10 times a week</td>\n",
       "      <td>3-5 times a week</td>\n",
       "      <td>30-60 minutes a day</td>\n",
       "      <td>30-60 minutes a day</td>\n",
       "      <td>DevOps function;Microservices;Automated testin...</td>\n",
       "      <td>Information Services, IT, Software Development...</td>\n",
       "      <td>Appropriate in length</td>\n",
       "      <td>Easy</td>\n",
       "      <td>250000.0</td>\n",
       "    </tr>\n",
       "  </tbody>\n",
       "</table>\n",
       "<p>3 rows × 84 columns</p>\n",
       "</div>"
      ],
      "text/plain": [
       "   ResponseId     Q120                      MainBranch              Age  \\\n",
       "0           1  I agree                   None of these  18-24 years old   \n",
       "1           2  I agree  I am a developer by profession  25-34 years old   \n",
       "2           3  I agree  I am a developer by profession  45-54 years old   \n",
       "\n",
       "            Employment                            RemoteWork  \\\n",
       "0                  NaN                                   NaN   \n",
       "1  Employed, full-time                                Remote   \n",
       "2  Employed, full-time  Hybrid (some remote, some in-person)   \n",
       "\n",
       "                                    CodingActivities  \\\n",
       "0                                                NaN   \n",
       "1  Hobby;Contribute to open-source projects;Boots...   \n",
       "2  Hobby;Professional development or self-paced l...   \n",
       "\n",
       "                                        EdLevel  \\\n",
       "0                                           NaN   \n",
       "1  Bachelor’s degree (B.A., B.S., B.Eng., etc.)   \n",
       "2  Bachelor’s degree (B.A., B.S., B.Eng., etc.)   \n",
       "\n",
       "                                           LearnCode  \\\n",
       "0                                                NaN   \n",
       "1  Books / Physical media;Colleague;Friend or fam...   \n",
       "2  Books / Physical media;Colleague;On the job tr...   \n",
       "\n",
       "                                     LearnCodeOnline  ...        Frequency_1  \\\n",
       "0                                                NaN  ...                NaN   \n",
       "1  Formal documentation provided by the owner of ...  ...   1-2 times a week   \n",
       "2  Formal documentation provided by the owner of ...  ...  6-10 times a week   \n",
       "\n",
       "         Frequency_2       Frequency_3        TimeSearching  \\\n",
       "0                NaN               NaN                  NaN   \n",
       "1   10+ times a week             Never  15-30 minutes a day   \n",
       "2  6-10 times a week  3-5 times a week  30-60 minutes a day   \n",
       "\n",
       "         TimeAnswering                                   ProfessionalTech  \\\n",
       "0                  NaN                                                NaN   \n",
       "1  15-30 minutes a day  DevOps function;Microservices;Automated testin...   \n",
       "2  30-60 minutes a day  DevOps function;Microservices;Automated testin...   \n",
       "\n",
       "                                            Industry           SurveyLength  \\\n",
       "0                                                NaN                    NaN   \n",
       "1  Information Services, IT, Software Development...  Appropriate in length   \n",
       "2  Information Services, IT, Software Development...  Appropriate in length   \n",
       "\n",
       "  SurveyEase ConvertedCompYearly  \n",
       "0        NaN                 NaN  \n",
       "1       Easy            285000.0  \n",
       "2       Easy            250000.0  \n",
       "\n",
       "[3 rows x 84 columns]"
      ]
     },
     "execution_count": 1,
     "metadata": {},
     "output_type": "execute_result"
    }
   ],
   "source": [
    "import pandas as pd\n",
    "df = pd.read_csv(\"survey_results_public.csv\")\n",
    "df.head(3)"
   ]
  },
  {
   "cell_type": "code",
   "execution_count": 2,
   "id": "51bf853c",
   "metadata": {},
   "outputs": [
    {
     "name": "stdout",
     "output_type": "stream",
     "text": [
      "RangeIndex(start=0, stop=89184, step=1)\n"
     ]
    }
   ],
   "source": [
    "print(df.index)"
   ]
  },
  {
   "cell_type": "markdown",
   "id": "9cca4b31",
   "metadata": {},
   "source": [
    "Finding the count of respondents"
   ]
  },
  {
   "cell_type": "code",
   "execution_count": 3,
   "id": "c50d48ab",
   "metadata": {},
   "outputs": [
    {
     "name": "stdout",
     "output_type": "stream",
     "text": [
      "89184\n"
     ]
    }
   ],
   "source": [
    "# 1.Count of respondents\n",
    "count_respondents = df['ResponseId'].count()\n",
    "print(count_respondents) "
   ]
  },
  {
   "cell_type": "markdown",
   "id": "f423439c",
   "metadata": {},
   "source": [
    "Finding the count of unique respondents"
   ]
  },
  {
   "cell_type": "code",
   "execution_count": 4,
   "id": "11b4d1ea",
   "metadata": {},
   "outputs": [
    {
     "data": {
      "text/plain": [
       "89184"
      ]
     },
     "execution_count": 4,
     "metadata": {},
     "output_type": "execute_result"
    }
   ],
   "source": [
    "# The other way of solving #1\n",
    "df.ResponseId.nunique()"
   ]
  },
  {
   "cell_type": "markdown",
   "id": "6cf005af",
   "metadata": {},
   "source": [
    "Finding the count of respondents who filled in all the columns"
   ]
  },
  {
   "cell_type": "code",
   "execution_count": 5,
   "id": "25d10d30",
   "metadata": {
    "scrolled": true
   },
   "outputs": [
    {
     "name": "stdout",
     "output_type": "stream",
     "text": [
      "ResponseId                 0\n",
      "Q120                       0\n",
      "MainBranch                 0\n",
      "Age                        0\n",
      "Employment              1286\n",
      "                       ...  \n",
      "ProfessionalTech       47401\n",
      "Industry               52410\n",
      "SurveyLength            2699\n",
      "SurveyEase              2630\n",
      "ConvertedCompYearly    41165\n",
      "Length: 84, dtype: int64\n"
     ]
    }
   ],
   "source": [
    "count_nan_i_c = df.isna().sum() # Return count of NaN in columns\n",
    "print(count_nan_i_c)"
   ]
  },
  {
   "cell_type": "code",
   "execution_count": 6,
   "id": "55fb638d",
   "metadata": {},
   "outputs": [
    {
     "name": "stdout",
     "output_type": "stream",
     "text": [
      "2621\n"
     ]
    }
   ],
   "source": [
    "# 2. Count of respondents who filled in all the columns\n",
    "def c_r_a_q(df):\n",
    "    count_respondents_a_q = count_respondents - df.isna().sum().max()\n",
    "    return count_respondents_a_q\n",
    "print(c_r_a_q(df))"
   ]
  },
  {
   "cell_type": "markdown",
   "id": "2c7ed380",
   "metadata": {},
   "source": [
    "Finding the count of respondents who answered all questions"
   ]
  },
  {
   "cell_type": "code",
   "execution_count": 7,
   "id": "5aa4063d",
   "metadata": {},
   "outputs": [
    {
     "data": {
      "text/plain": [
       "2032"
      ]
     },
     "execution_count": 7,
     "metadata": {},
     "output_type": "execute_result"
    }
   ],
   "source": [
    "# The other way to solving #2 including survey_results_schema.csv\n",
    "schema = pd.read_csv('survey_results_schema.csv')\n",
    "questions = set(schema.qname.unique()) & set(df.columns) \n",
    "df.dropna(subset=questions).shape[0] "
   ]
  },
  {
   "cell_type": "code",
   "execution_count": 8,
   "id": "271c956e",
   "metadata": {},
   "outputs": [
    {
     "data": {
      "text/html": [
       "<div>\n",
       "<style scoped>\n",
       "    .dataframe tbody tr th:only-of-type {\n",
       "        vertical-align: middle;\n",
       "    }\n",
       "\n",
       "    .dataframe tbody tr th {\n",
       "        vertical-align: top;\n",
       "    }\n",
       "\n",
       "    .dataframe thead th {\n",
       "        text-align: right;\n",
       "    }\n",
       "</style>\n",
       "<table border=\"1\" class=\"dataframe\">\n",
       "  <thead>\n",
       "    <tr style=\"text-align: right;\">\n",
       "      <th></th>\n",
       "      <th>qid</th>\n",
       "      <th>qname</th>\n",
       "      <th>question</th>\n",
       "      <th>force_resp</th>\n",
       "      <th>type</th>\n",
       "      <th>selector</th>\n",
       "    </tr>\n",
       "  </thead>\n",
       "  <tbody>\n",
       "    <tr>\n",
       "      <th>0</th>\n",
       "      <td>QID16</td>\n",
       "      <td>S0</td>\n",
       "      <td>&lt;div&gt;&lt;span style=\"font-size:19px;\"&gt;&lt;strong&gt;Hel...</td>\n",
       "      <td>False</td>\n",
       "      <td>DB</td>\n",
       "      <td>TB</td>\n",
       "    </tr>\n",
       "    <tr>\n",
       "      <th>1</th>\n",
       "      <td>QID12</td>\n",
       "      <td>MetaInfo</td>\n",
       "      <td>Browser Meta Info</td>\n",
       "      <td>False</td>\n",
       "      <td>Meta</td>\n",
       "      <td>Browser</td>\n",
       "    </tr>\n",
       "    <tr>\n",
       "      <th>2</th>\n",
       "      <td>QID310</td>\n",
       "      <td>Q310</td>\n",
       "      <td>&lt;div&gt;&lt;span style=\"font-size:19px;\"&gt;&lt;strong&gt;You...</td>\n",
       "      <td>False</td>\n",
       "      <td>DB</td>\n",
       "      <td>TB</td>\n",
       "    </tr>\n",
       "    <tr>\n",
       "      <th>3</th>\n",
       "      <td>QID312</td>\n",
       "      <td>Q120</td>\n",
       "      <td></td>\n",
       "      <td>True</td>\n",
       "      <td>MC</td>\n",
       "      <td>SAVR</td>\n",
       "    </tr>\n",
       "    <tr>\n",
       "      <th>4</th>\n",
       "      <td>QID1</td>\n",
       "      <td>S1</td>\n",
       "      <td>&lt;span style=\"font-size:22px; font-family: aria...</td>\n",
       "      <td>False</td>\n",
       "      <td>DB</td>\n",
       "      <td>TB</td>\n",
       "    </tr>\n",
       "  </tbody>\n",
       "</table>\n",
       "</div>"
      ],
      "text/plain": [
       "      qid     qname                                           question  \\\n",
       "0   QID16        S0  <div><span style=\"font-size:19px;\"><strong>Hel...   \n",
       "1   QID12  MetaInfo                                  Browser Meta Info   \n",
       "2  QID310      Q310  <div><span style=\"font-size:19px;\"><strong>You...   \n",
       "3  QID312      Q120                                                      \n",
       "4    QID1        S1  <span style=\"font-size:22px; font-family: aria...   \n",
       "\n",
       "  force_resp  type selector  \n",
       "0      False    DB       TB  \n",
       "1      False  Meta  Browser  \n",
       "2      False    DB       TB  \n",
       "3       True    MC     SAVR  \n",
       "4      False    DB       TB  "
      ]
     },
     "execution_count": 8,
     "metadata": {},
     "output_type": "execute_result"
    }
   ],
   "source": [
    "# what df schema contains.\n",
    "schema.head()"
   ]
  },
  {
   "cell_type": "markdown",
   "id": "d47b134b",
   "metadata": {},
   "source": [
    "Finding central tendency measures of respondents work experience"
   ]
  },
  {
   "cell_type": "code",
   "execution_count": 9,
   "id": "eef9b9ca",
   "metadata": {},
   "outputs": [
    {
     "name": "stdout",
     "output_type": "stream",
     "text": [
      "11.405126322311204 9.0 0    5.0\n",
      "Name: WorkExp, dtype: float64\n"
     ]
    }
   ],
   "source": [
    "# 3.WorkExp central tendency measures\n",
    "work_exp = df['WorkExp']\n",
    "mean, median, mode = work_exp.mean(), work_exp.median(), work_exp.mode()\n",
    "print(mean, median, mode)"
   ]
  },
  {
   "cell_type": "code",
   "execution_count": 10,
   "id": "beac6180",
   "metadata": {
    "scrolled": true
   },
   "outputs": [
    {
     "data": {
      "text/plain": [
       "Index(['ResponseId', 'Q120', 'MainBranch', 'Age', 'Employment', 'RemoteWork',\n",
       "       'CodingActivities', 'EdLevel', 'LearnCode', 'LearnCodeOnline',\n",
       "       'LearnCodeCoursesCert', 'YearsCode', 'YearsCodePro', 'DevType',\n",
       "       'OrgSize', 'PurchaseInfluence', 'TechList', 'BuyNewTool', 'Country',\n",
       "       'Currency', 'CompTotal', 'LanguageHaveWorkedWith',\n",
       "       'LanguageWantToWorkWith', 'DatabaseHaveWorkedWith',\n",
       "       'DatabaseWantToWorkWith', 'PlatformHaveWorkedWith',\n",
       "       'PlatformWantToWorkWith', 'WebframeHaveWorkedWith',\n",
       "       'WebframeWantToWorkWith', 'MiscTechHaveWorkedWith',\n",
       "       'MiscTechWantToWorkWith', 'ToolsTechHaveWorkedWith',\n",
       "       'ToolsTechWantToWorkWith', 'NEWCollabToolsHaveWorkedWith',\n",
       "       'NEWCollabToolsWantToWorkWith', 'OpSysPersonal use',\n",
       "       'OpSysProfessional use', 'OfficeStackAsyncHaveWorkedWith',\n",
       "       'OfficeStackAsyncWantToWorkWith', 'OfficeStackSyncHaveWorkedWith',\n",
       "       'OfficeStackSyncWantToWorkWith', 'AISearchHaveWorkedWith',\n",
       "       'AISearchWantToWorkWith', 'AIDevHaveWorkedWith', 'AIDevWantToWorkWith',\n",
       "       'NEWSOSites', 'SOVisitFreq', 'SOAccount', 'SOPartFreq', 'SOComm',\n",
       "       'SOAI', 'AISelect', 'AISent', 'AIAcc', 'AIBen',\n",
       "       'AIToolInterested in Using', 'AIToolCurrently Using',\n",
       "       'AIToolNot interested in Using', 'AINextVery different',\n",
       "       'AINextNeither different nor similar', 'AINextSomewhat similar',\n",
       "       'AINextVery similar', 'AINextSomewhat different', 'TBranch', 'ICorPM',\n",
       "       'WorkExp', 'Knowledge_1', 'Knowledge_2', 'Knowledge_3', 'Knowledge_4',\n",
       "       'Knowledge_5', 'Knowledge_6', 'Knowledge_7', 'Knowledge_8',\n",
       "       'Frequency_1', 'Frequency_2', 'Frequency_3', 'TimeSearching',\n",
       "       'TimeAnswering', 'ProfessionalTech', 'Industry', 'SurveyLength',\n",
       "       'SurveyEase', 'ConvertedCompYearly'],\n",
       "      dtype='object')"
      ]
     },
     "execution_count": 10,
     "metadata": {},
     "output_type": "execute_result"
    }
   ],
   "source": [
    "df.columns #the names of all columns"
   ]
  },
  {
   "cell_type": "markdown",
   "id": "46bcde68",
   "metadata": {},
   "source": [
    "Respondents who work Remotely (count)"
   ]
  },
  {
   "cell_type": "code",
   "execution_count": 11,
   "id": "3ea39375",
   "metadata": {},
   "outputs": [
    {
     "data": {
      "text/html": [
       "<div>\n",
       "<style scoped>\n",
       "    .dataframe tbody tr th:only-of-type {\n",
       "        vertical-align: middle;\n",
       "    }\n",
       "\n",
       "    .dataframe tbody tr th {\n",
       "        vertical-align: top;\n",
       "    }\n",
       "\n",
       "    .dataframe thead th {\n",
       "        text-align: right;\n",
       "    }\n",
       "</style>\n",
       "<table border=\"1\" class=\"dataframe\">\n",
       "  <thead>\n",
       "    <tr style=\"text-align: right;\">\n",
       "      <th></th>\n",
       "      <th>ResponseId</th>\n",
       "      <th>Q120</th>\n",
       "      <th>MainBranch</th>\n",
       "      <th>Age</th>\n",
       "      <th>Employment</th>\n",
       "      <th>RemoteWork</th>\n",
       "      <th>CodingActivities</th>\n",
       "      <th>EdLevel</th>\n",
       "      <th>LearnCode</th>\n",
       "      <th>LearnCodeOnline</th>\n",
       "      <th>...</th>\n",
       "      <th>Frequency_1</th>\n",
       "      <th>Frequency_2</th>\n",
       "      <th>Frequency_3</th>\n",
       "      <th>TimeSearching</th>\n",
       "      <th>TimeAnswering</th>\n",
       "      <th>ProfessionalTech</th>\n",
       "      <th>Industry</th>\n",
       "      <th>SurveyLength</th>\n",
       "      <th>SurveyEase</th>\n",
       "      <th>ConvertedCompYearly</th>\n",
       "    </tr>\n",
       "  </thead>\n",
       "  <tbody>\n",
       "    <tr>\n",
       "      <th>1</th>\n",
       "      <td>2</td>\n",
       "      <td>I agree</td>\n",
       "      <td>I am a developer by profession</td>\n",
       "      <td>25-34 years old</td>\n",
       "      <td>Employed, full-time</td>\n",
       "      <td>Remote</td>\n",
       "      <td>Hobby;Contribute to open-source projects;Boots...</td>\n",
       "      <td>Bachelor’s degree (B.A., B.S., B.Eng., etc.)</td>\n",
       "      <td>Books / Physical media;Colleague;Friend or fam...</td>\n",
       "      <td>Formal documentation provided by the owner of ...</td>\n",
       "      <td>...</td>\n",
       "      <td>1-2 times a week</td>\n",
       "      <td>10+ times a week</td>\n",
       "      <td>Never</td>\n",
       "      <td>15-30 minutes a day</td>\n",
       "      <td>15-30 minutes a day</td>\n",
       "      <td>DevOps function;Microservices;Automated testin...</td>\n",
       "      <td>Information Services, IT, Software Development...</td>\n",
       "      <td>Appropriate in length</td>\n",
       "      <td>Easy</td>\n",
       "      <td>285000.0</td>\n",
       "    </tr>\n",
       "    <tr>\n",
       "      <th>4</th>\n",
       "      <td>5</td>\n",
       "      <td>I agree</td>\n",
       "      <td>I am a developer by profession</td>\n",
       "      <td>25-34 years old</td>\n",
       "      <td>Employed, full-time;Independent contractor, fr...</td>\n",
       "      <td>Remote</td>\n",
       "      <td>Hobby;Contribute to open-source projects;Profe...</td>\n",
       "      <td>Bachelor’s degree (B.A., B.S., B.Eng., etc.)</td>\n",
       "      <td>Books / Physical media;Online Courses or Certi...</td>\n",
       "      <td>Formal documentation provided by the owner of ...</td>\n",
       "      <td>...</td>\n",
       "      <td>1-2 times a week</td>\n",
       "      <td>1-2 times a week</td>\n",
       "      <td>3-5 times a week</td>\n",
       "      <td>60-120 minutes a day</td>\n",
       "      <td>30-60 minutes a day</td>\n",
       "      <td>Microservices;Automated testing;Observability ...</td>\n",
       "      <td>Other</td>\n",
       "      <td>Appropriate in length</td>\n",
       "      <td>Neither easy nor difficult</td>\n",
       "      <td>23456.0</td>\n",
       "    </tr>\n",
       "    <tr>\n",
       "      <th>5</th>\n",
       "      <td>6</td>\n",
       "      <td>I agree</td>\n",
       "      <td>I am a developer by profession</td>\n",
       "      <td>35-44 years old</td>\n",
       "      <td>Employed, full-time</td>\n",
       "      <td>Remote</td>\n",
       "      <td>Hobby;Professional development or self-paced l...</td>\n",
       "      <td>Some college/university study without earning ...</td>\n",
       "      <td>Books / Physical media;Colleague;Online Course...</td>\n",
       "      <td>Formal documentation provided by the owner of ...</td>\n",
       "      <td>...</td>\n",
       "      <td>1-2 times a week</td>\n",
       "      <td>1-2 times a week</td>\n",
       "      <td>3-5 times a week</td>\n",
       "      <td>30-60 minutes a day</td>\n",
       "      <td>15-30 minutes a day</td>\n",
       "      <td>DevOps function;Microservices;Observability to...</td>\n",
       "      <td>Other</td>\n",
       "      <td>Appropriate in length</td>\n",
       "      <td>Neither easy nor difficult</td>\n",
       "      <td>96828.0</td>\n",
       "    </tr>\n",
       "    <tr>\n",
       "      <th>6</th>\n",
       "      <td>7</td>\n",
       "      <td>I agree</td>\n",
       "      <td>I am a developer by profession</td>\n",
       "      <td>35-44 years old</td>\n",
       "      <td>Employed, full-time</td>\n",
       "      <td>Remote</td>\n",
       "      <td>Hobby;Contribute to open-source projects;Profe...</td>\n",
       "      <td>Some college/university study without earning ...</td>\n",
       "      <td>Friend or family member;Online Courses or Cert...</td>\n",
       "      <td>NaN</td>\n",
       "      <td>...</td>\n",
       "      <td>1-2 times a week</td>\n",
       "      <td>3-5 times a week</td>\n",
       "      <td>1-2 times a week</td>\n",
       "      <td>Less than 15 minutes a day</td>\n",
       "      <td>15-30 minutes a day</td>\n",
       "      <td>Microservices;Automated testing;Continuous int...</td>\n",
       "      <td>Information Services, IT, Software Development...</td>\n",
       "      <td>Appropriate in length</td>\n",
       "      <td>Easy</td>\n",
       "      <td>135000.0</td>\n",
       "    </tr>\n",
       "    <tr>\n",
       "      <th>7</th>\n",
       "      <td>8</td>\n",
       "      <td>I agree</td>\n",
       "      <td>I am a developer by profession</td>\n",
       "      <td>25-34 years old</td>\n",
       "      <td>Employed, full-time</td>\n",
       "      <td>Remote</td>\n",
       "      <td>Hobby</td>\n",
       "      <td>Bachelor’s degree (B.A., B.S., B.Eng., etc.)</td>\n",
       "      <td>Books / Physical media;Online Courses or Certi...</td>\n",
       "      <td>Formal documentation provided by the owner of ...</td>\n",
       "      <td>...</td>\n",
       "      <td>NaN</td>\n",
       "      <td>NaN</td>\n",
       "      <td>NaN</td>\n",
       "      <td>60-120 minutes a day</td>\n",
       "      <td>30-60 minutes a day</td>\n",
       "      <td>None of these</td>\n",
       "      <td>Financial Services</td>\n",
       "      <td>NaN</td>\n",
       "      <td>NaN</td>\n",
       "      <td>80000.0</td>\n",
       "    </tr>\n",
       "  </tbody>\n",
       "</table>\n",
       "<p>5 rows × 84 columns</p>\n",
       "</div>"
      ],
      "text/plain": [
       "   ResponseId     Q120                      MainBranch              Age  \\\n",
       "1           2  I agree  I am a developer by profession  25-34 years old   \n",
       "4           5  I agree  I am a developer by profession  25-34 years old   \n",
       "5           6  I agree  I am a developer by profession  35-44 years old   \n",
       "6           7  I agree  I am a developer by profession  35-44 years old   \n",
       "7           8  I agree  I am a developer by profession  25-34 years old   \n",
       "\n",
       "                                          Employment RemoteWork  \\\n",
       "1                                Employed, full-time     Remote   \n",
       "4  Employed, full-time;Independent contractor, fr...     Remote   \n",
       "5                                Employed, full-time     Remote   \n",
       "6                                Employed, full-time     Remote   \n",
       "7                                Employed, full-time     Remote   \n",
       "\n",
       "                                    CodingActivities  \\\n",
       "1  Hobby;Contribute to open-source projects;Boots...   \n",
       "4  Hobby;Contribute to open-source projects;Profe...   \n",
       "5  Hobby;Professional development or self-paced l...   \n",
       "6  Hobby;Contribute to open-source projects;Profe...   \n",
       "7                                              Hobby   \n",
       "\n",
       "                                             EdLevel  \\\n",
       "1       Bachelor’s degree (B.A., B.S., B.Eng., etc.)   \n",
       "4       Bachelor’s degree (B.A., B.S., B.Eng., etc.)   \n",
       "5  Some college/university study without earning ...   \n",
       "6  Some college/university study without earning ...   \n",
       "7       Bachelor’s degree (B.A., B.S., B.Eng., etc.)   \n",
       "\n",
       "                                           LearnCode  \\\n",
       "1  Books / Physical media;Colleague;Friend or fam...   \n",
       "4  Books / Physical media;Online Courses or Certi...   \n",
       "5  Books / Physical media;Colleague;Online Course...   \n",
       "6  Friend or family member;Online Courses or Cert...   \n",
       "7  Books / Physical media;Online Courses or Certi...   \n",
       "\n",
       "                                     LearnCodeOnline  ...       Frequency_1  \\\n",
       "1  Formal documentation provided by the owner of ...  ...  1-2 times a week   \n",
       "4  Formal documentation provided by the owner of ...  ...  1-2 times a week   \n",
       "5  Formal documentation provided by the owner of ...  ...  1-2 times a week   \n",
       "6                                                NaN  ...  1-2 times a week   \n",
       "7  Formal documentation provided by the owner of ...  ...               NaN   \n",
       "\n",
       "        Frequency_2       Frequency_3               TimeSearching  \\\n",
       "1  10+ times a week             Never         15-30 minutes a day   \n",
       "4  1-2 times a week  3-5 times a week        60-120 minutes a day   \n",
       "5  1-2 times a week  3-5 times a week         30-60 minutes a day   \n",
       "6  3-5 times a week  1-2 times a week  Less than 15 minutes a day   \n",
       "7               NaN               NaN        60-120 minutes a day   \n",
       "\n",
       "         TimeAnswering                                   ProfessionalTech  \\\n",
       "1  15-30 minutes a day  DevOps function;Microservices;Automated testin...   \n",
       "4  30-60 minutes a day  Microservices;Automated testing;Observability ...   \n",
       "5  15-30 minutes a day  DevOps function;Microservices;Observability to...   \n",
       "6  15-30 minutes a day  Microservices;Automated testing;Continuous int...   \n",
       "7  30-60 minutes a day                                      None of these   \n",
       "\n",
       "                                            Industry           SurveyLength  \\\n",
       "1  Information Services, IT, Software Development...  Appropriate in length   \n",
       "4                                              Other  Appropriate in length   \n",
       "5                                              Other  Appropriate in length   \n",
       "6  Information Services, IT, Software Development...  Appropriate in length   \n",
       "7                                 Financial Services                    NaN   \n",
       "\n",
       "                   SurveyEase ConvertedCompYearly  \n",
       "1                        Easy            285000.0  \n",
       "4  Neither easy nor difficult             23456.0  \n",
       "5  Neither easy nor difficult             96828.0  \n",
       "6                        Easy            135000.0  \n",
       "7                         NaN             80000.0  \n",
       "\n",
       "[5 rows x 84 columns]"
      ]
     },
     "execution_count": 11,
     "metadata": {},
     "output_type": "execute_result"
    }
   ],
   "source": [
    "# Respondents who work Remotely\n",
    "df[\n",
    "    df['RemoteWork'] == 'Remote'\n",
    "].head()"
   ]
  },
  {
   "cell_type": "code",
   "execution_count": 12,
   "id": "17bcec57",
   "metadata": {},
   "outputs": [
    {
     "name": "stdout",
     "output_type": "stream",
     "text": [
      "30566\n"
     ]
    }
   ],
   "source": [
    "# 4. Count of Respondents who work Remotely\n",
    "count_remote = (df['RemoteWork'] == 'Remote').sum()\n",
    "print(count_remote)"
   ]
  },
  {
   "cell_type": "markdown",
   "id": "1a07cb73",
   "metadata": {},
   "source": [
    "Finding the percentage of Respondents who code on Python"
   ]
  },
  {
   "cell_type": "code",
   "execution_count": 13,
   "id": "e49ca33a",
   "metadata": {},
   "outputs": [
    {
     "name": "stdout",
     "output_type": "stream",
     "text": [
      "43158\n"
     ]
    }
   ],
   "source": [
    "# Count Respondents who code on Python\n",
    "count_python = df['LanguageHaveWorkedWith'].str.contains('Python').sum()\n",
    "print(count_python)"
   ]
  },
  {
   "cell_type": "code",
   "execution_count": 14,
   "id": "3193931e",
   "metadata": {},
   "outputs": [
    {
     "name": "stdout",
     "output_type": "stream",
     "text": [
      "48.39 %\n"
     ]
    }
   ],
   "source": [
    "# 5.Count Respondents who code on Python %\n",
    "def count_python_perc(df):\n",
    "    return round(count_python / count_respondents * 100, 2)\n",
    "print(f\"{count_python_perc(df)} %\")"
   ]
  },
  {
   "cell_type": "markdown",
   "id": "dcfaca52",
   "metadata": {},
   "source": [
    "Count Respondents who learnt code online"
   ]
  },
  {
   "cell_type": "code",
   "execution_count": 15,
   "id": "ecb1d091",
   "metadata": {},
   "outputs": [
    {
     "data": {
      "text/plain": [
       "array([nan,\n",
       "       'Formal documentation provided by the owner of the tech;Blogs with tips and tricks;Books;Recorded coding sessions;How-to videos;Video-based Online Courses;Written-based Online Courses;Auditory material (e.g., podcasts);Online challenges (e.g., daily or weekly coding challenges);Written Tutorials;Click to write Choice 20;Stack Overflow',\n",
       "       'Formal documentation provided by the owner of the tech;Blogs with tips and tricks;How-to videos;Online challenges (e.g., daily or weekly coding challenges);Written Tutorials;Click to write Choice 20;Stack Overflow',\n",
       "       ..., nan,\n",
       "       'Formal documentation provided by the owner of the tech;Recorded coding sessions;How-to videos;Video-based Online Courses;Stack Overflow',\n",
       "       'Formal documentation provided by the owner of the tech;Blogs with tips and tricks;How-to videos;Video-based Online Courses;Written-based Online Courses;Written Tutorials;Stack Overflow'],\n",
       "      dtype=object)"
      ]
     },
     "execution_count": 15,
     "metadata": {},
     "output_type": "execute_result"
    }
   ],
   "source": [
    "# All values in LearnCodeOnline\n",
    "df['LearnCodeOnline'].values"
   ]
  },
  {
   "cell_type": "code",
   "execution_count": 16,
   "id": "df84c162",
   "metadata": {},
   "outputs": [
    {
     "name": "stdout",
     "output_type": "stream",
     "text": [
      "42195\n"
     ]
    }
   ],
   "source": [
    "# 6.Count Respondents who learnt code online\n",
    "count_code_online = df['LearnCodeOnline'].str.contains('Video-based Online Courses') | df['LearnCodeOnline'].str.contains('Written-based Online Courses')\n",
    "print(count_code_online.sum())"
   ]
  },
  {
   "cell_type": "markdown",
   "id": "1e375db5",
   "metadata": {},
   "source": [
    "Finding the average and the median of compensations by countries among Respondents"
   ]
  },
  {
   "cell_type": "code",
   "execution_count": 17,
   "id": "d18dbd5d",
   "metadata": {},
   "outputs": [
    {
     "name": "stdout",
     "output_type": "stream",
     "text": [
      "                                     ConvertedCompYearly         \n",
      "                                                    mean   median\n",
      "Country                                                          \n",
      "Afghanistan                                   665.000000     48.0\n",
      "Albania                                     28008.600000  11844.0\n",
      "Algeria                                      8336.333333   6586.0\n",
      "Andorra                                     32127.000000  32127.0\n",
      "Angola                                        662.000000    662.0\n",
      "...                                                  ...      ...\n",
      "Venezuela, Bolivarian Republic of...        24973.529412  12000.0\n",
      "Viet Nam                                    20191.870370  13401.0\n",
      "Yemen                                        8373.000000   9000.0\n",
      "Zambia                                      13051.000000   9687.0\n",
      "Zimbabwe                                     5600.000000   6000.0\n",
      "\n",
      "[173 rows x 2 columns]\n"
     ]
    }
   ],
   "source": [
    "# 7. Avg and median of compensations by countries\n",
    "python_dev = df['LanguageHaveWorkedWith'].str.contains('Python').fillna(False)\n",
    "python_dev = df[python_dev]\n",
    "\n",
    "if not python_dev.empty:\n",
    "    result = python_dev.groupby('Country').agg(\n",
    "        {\n",
    "            'ConvertedCompYearly': ['mean', 'median']\n",
    "        })\n",
    "    print(result)\n",
    "else:\n",
    "    print(\"No Python developers found.\")"
   ]
  },
  {
   "cell_type": "markdown",
   "id": "538acf60",
   "metadata": {},
   "source": [
    "Top 5 respondents' compensation by education level"
   ]
  },
  {
   "cell_type": "code",
   "execution_count": 18,
   "id": "ed0717ea",
   "metadata": {},
   "outputs": [
    {
     "data": {
      "text/html": [
       "<div>\n",
       "<style scoped>\n",
       "    .dataframe tbody tr th:only-of-type {\n",
       "        vertical-align: middle;\n",
       "    }\n",
       "\n",
       "    .dataframe tbody tr th {\n",
       "        vertical-align: top;\n",
       "    }\n",
       "\n",
       "    .dataframe thead th {\n",
       "        text-align: right;\n",
       "    }\n",
       "</style>\n",
       "<table border=\"1\" class=\"dataframe\">\n",
       "  <thead>\n",
       "    <tr style=\"text-align: right;\">\n",
       "      <th></th>\n",
       "      <th>ResponseId</th>\n",
       "      <th>EdLevel</th>\n",
       "      <th>ConvertedCompYearly</th>\n",
       "    </tr>\n",
       "  </thead>\n",
       "  <tbody>\n",
       "    <tr>\n",
       "      <th>53268</th>\n",
       "      <td>53269</td>\n",
       "      <td>Professional degree (JD, MD, Ph.D, Ed.D, etc.)</td>\n",
       "      <td>74351432.0</td>\n",
       "    </tr>\n",
       "    <tr>\n",
       "      <th>77848</th>\n",
       "      <td>77849</td>\n",
       "      <td>Professional degree (JD, MD, Ph.D, Ed.D, etc.)</td>\n",
       "      <td>73607918.0</td>\n",
       "    </tr>\n",
       "    <tr>\n",
       "      <th>66223</th>\n",
       "      <td>66224</td>\n",
       "      <td>Bachelor’s degree (B.A., B.S., B.Eng., etc.)</td>\n",
       "      <td>72714292.0</td>\n",
       "    </tr>\n",
       "    <tr>\n",
       "      <th>28121</th>\n",
       "      <td>28122</td>\n",
       "      <td>Primary/elementary school</td>\n",
       "      <td>57513831.0</td>\n",
       "    </tr>\n",
       "    <tr>\n",
       "      <th>19679</th>\n",
       "      <td>19680</td>\n",
       "      <td>Professional degree (JD, MD, Ph.D, Ed.D, etc.)</td>\n",
       "      <td>36573181.0</td>\n",
       "    </tr>\n",
       "  </tbody>\n",
       "</table>\n",
       "</div>"
      ],
      "text/plain": [
       "       ResponseId                                         EdLevel  \\\n",
       "53268       53269  Professional degree (JD, MD, Ph.D, Ed.D, etc.)   \n",
       "77848       77849  Professional degree (JD, MD, Ph.D, Ed.D, etc.)   \n",
       "66223       66224    Bachelor’s degree (B.A., B.S., B.Eng., etc.)   \n",
       "28121       28122                       Primary/elementary school   \n",
       "19679       19680  Professional degree (JD, MD, Ph.D, Ed.D, etc.)   \n",
       "\n",
       "       ConvertedCompYearly  \n",
       "53268           74351432.0  \n",
       "77848           73607918.0  \n",
       "66223           72714292.0  \n",
       "28121           57513831.0  \n",
       "19679           36573181.0  "
      ]
     },
     "execution_count": 18,
     "metadata": {},
     "output_type": "execute_result"
    }
   ],
   "source": [
    "# 8. Top 5 respondents' compensation by education level\n",
    "df[['ResponseId', 'EdLevel', 'ConvertedCompYearly']].sort_values(by='ConvertedCompYearly', ascending=False).head()"
   ]
  },
  {
   "cell_type": "markdown",
   "id": "15b781c1",
   "metadata": {},
   "source": [
    "Finding the percentage of Python programmers in 'age' category"
   ]
  },
  {
   "cell_type": "code",
   "execution_count": 19,
   "id": "8531225c",
   "metadata": {},
   "outputs": [
    {
     "data": {
      "text/plain": [
       "Age\n",
       "18-24 years old       17931\n",
       "25-34 years old       33247\n",
       "35-44 years old       20532\n",
       "45-54 years old        8334\n",
       "55-64 years old        3392\n",
       "65 years or older      1171\n",
       "Prefer not to say       449\n",
       "Under 18 years old     4128\n",
       "Name: ResponseId, dtype: int64"
      ]
     },
     "execution_count": 19,
     "metadata": {},
     "output_type": "execute_result"
    }
   ],
   "source": [
    "# Count all respondents by Age\n",
    "df.groupby('Age')['ResponseId'].count()"
   ]
  },
  {
   "cell_type": "code",
   "execution_count": 20,
   "id": "f6070ff3",
   "metadata": {},
   "outputs": [
    {
     "name": "stdout",
     "output_type": "stream",
     "text": [
      "Age\n",
      "18-24 years old       61.4\n",
      "25-34 years old       47.6\n",
      "35-44 years old       41.4\n",
      "45-54 years old       38.5\n",
      "55-64 years old       36.5\n",
      "65 years or older     30.9\n",
      "Prefer not to say     41.2\n",
      "Under 18 years old    68.6\n",
      "dtype: float64\n"
     ]
    }
   ],
   "source": [
    "# 9. Percent of Python programmers in 'age' category.\n",
    "Python_age = df.groupby('Age').agg({'ResponseId': 'count', 'LanguageHaveWorkedWith': lambda x: x.str.contains('Python').sum(),})\n",
    "#print(Python_age)\n",
    "percent_python_among_age = Python_age['LanguageHaveWorkedWith'] / Python_age['ResponseId'] * 100\n",
    "print(round(percent_python_among_age,1))"
   ]
  },
  {
   "cell_type": "markdown",
   "id": "2befe0c2",
   "metadata": {},
   "source": [
    "Findinq the Top Industries among remote respondents in percentile 75 of compensation"
   ]
  },
  {
   "cell_type": "code",
   "execution_count": 21,
   "id": "785d9fbd",
   "metadata": {},
   "outputs": [
    {
     "name": "stdout",
     "output_type": "stream",
     "text": [
      "Industry\n",
      "Healthcare                                                             155000.00\n",
      "Advertising Services                                                   150000.00\n",
      "Financial Services                                                     150000.00\n",
      "Other                                                                  148966.00\n",
      "Insurance                                                              145000.00\n",
      "Retail and Consumer Services                                           140000.00\n",
      "Information Services, IT, Software Development, or other Technology    136552.00\n",
      "Manufacturing, Transportation, or Supply Chain                         130000.00\n",
      "Higher Education                                                       120000.00\n",
      "Oil & Gas                                                              117841.00\n",
      "Legal Services                                                         117500.00\n",
      "Wholesale                                                              113645.25\n",
      "Name: ConvertedCompYearly, dtype: float64\n"
     ]
    }
   ],
   "source": [
    "# Findinq the Industry among remote respondents in percentile 75 of compensation\n",
    "type_work = ['Remote']\n",
    "quantile_respondents = df.loc[df['RemoteWork'].isin(type_work)].groupby('Industry')['ConvertedCompYearly'].quantile(0.75)\n",
    "# print(quantile_respondents)\n",
    "# 10. Finding top industries \n",
    "sorted_quantile_respondents = quantile_respondents.sort_values(ascending=False)\n",
    "print(sorted_quantile_respondents)"
   ]
  },
  {
   "cell_type": "code",
   "execution_count": null,
   "id": "6df2e480",
   "metadata": {},
   "outputs": [],
   "source": []
  }
 ],
 "metadata": {
  "kernelspec": {
   "display_name": "Python 3 (ipykernel)",
   "language": "python",
   "name": "python3"
  },
  "language_info": {
   "codemirror_mode": {
    "name": "ipython",
    "version": 3
   },
   "file_extension": ".py",
   "mimetype": "text/x-python",
   "name": "python",
   "nbconvert_exporter": "python",
   "pygments_lexer": "ipython3",
   "version": "3.11.4"
  }
 },
 "nbformat": 4,
 "nbformat_minor": 5
}
